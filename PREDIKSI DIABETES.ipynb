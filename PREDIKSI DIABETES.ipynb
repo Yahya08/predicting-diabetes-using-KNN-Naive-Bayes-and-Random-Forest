{
  "nbformat": 4,
  "nbformat_minor": 0,
  "metadata": {
    "colab": {
      "provenance": []
    },
    "kernelspec": {
      "name": "python3",
      "display_name": "Python 3"
    },
    "language_info": {
      "name": "python"
    }
  },
  "cells": [
    {
      "cell_type": "markdown",
      "source": [
        "# **UAS Big Data Lanjut**\n",
        "\n",
        "**ANGGOTA KELOMPOK:**\n",
        "\n",
        "**1. Kenedi Fagus Pradana (21.11.4338)**\n",
        "\n",
        "**2. Taufiq Dwi Aziz (21.11.4342)**\n",
        "\n",
        "**3. Zulaicho Oktafreza Wardhana (21.11.4360)**\n",
        "\n",
        "**4. Ahmed Ibnu Aprianto (21.11.4361)**\n",
        "\n",
        "**5. Yahya Handarestanto (21.11.4365)**\n",
        "\n",
        "**6. Khoirudin Yoga Pratama (21.11.4389)**\n"
      ],
      "metadata": {
        "id": "YDuYUvPXHQim"
      }
    },
    {
      "cell_type": "markdown",
      "source": [
        " [Link dataseet kaggle](https://https://www.kaggle.com/datasets/mathchi/diabetes-data-set?resource=download)"
      ],
      "metadata": {
        "id": "5Lh9HBmBKQX2"
      }
    },
    {
      "cell_type": "code",
      "execution_count": null,
      "metadata": {
        "colab": {
          "base_uri": "https://localhost:8080/"
        },
        "id": "YPkLPYmttMdU",
        "outputId": "b65baff4-5f73-4fdf-9b0c-48beb7f9d7b0"
      },
      "outputs": [
        {
          "output_type": "stream",
          "name": "stdout",
          "text": [
            "Collecting pyspark\n",
            "  Downloading pyspark-3.5.0.tar.gz (316.9 MB)\n",
            "\u001b[2K     \u001b[90m━━━━━━━━━━━━━━━━━━━━━━━━━━━━━━━━━━━━━━━━\u001b[0m \u001b[32m316.9/316.9 MB\u001b[0m \u001b[31m2.9 MB/s\u001b[0m eta \u001b[36m0:00:00\u001b[0m\n",
            "\u001b[?25h  Preparing metadata (setup.py) ... \u001b[?25l\u001b[?25hdone\n",
            "Requirement already satisfied: py4j==0.10.9.7 in /usr/local/lib/python3.10/dist-packages (from pyspark) (0.10.9.7)\n",
            "Building wheels for collected packages: pyspark\n",
            "  Building wheel for pyspark (setup.py) ... \u001b[?25l\u001b[?25hdone\n",
            "  Created wheel for pyspark: filename=pyspark-3.5.0-py2.py3-none-any.whl size=317425345 sha256=54a53e5d6acee932710cf2028dbbcaf0c099800d0c43d72b0b7c692ce6409ee4\n",
            "  Stored in directory: /root/.cache/pip/wheels/41/4e/10/c2cf2467f71c678cfc8a6b9ac9241e5e44a01940da8fbb17fc\n",
            "Successfully built pyspark\n",
            "Installing collected packages: pyspark\n",
            "Successfully installed pyspark-3.5.0\n",
            "Collecting findspark\n",
            "  Downloading findspark-2.0.1-py2.py3-none-any.whl (4.4 kB)\n",
            "Installing collected packages: findspark\n",
            "Successfully installed findspark-2.0.1\n",
            "Requirement already satisfied: scikit-learn in /usr/local/lib/python3.10/dist-packages (1.2.2)\n",
            "Collecting scikit-learn\n",
            "  Downloading scikit_learn-1.3.2-cp310-cp310-manylinux_2_17_x86_64.manylinux2014_x86_64.whl (10.8 MB)\n",
            "\u001b[2K     \u001b[90m━━━━━━━━━━━━━━━━━━━━━━━━━━━━━━━━━━━━━━━━\u001b[0m \u001b[32m10.8/10.8 MB\u001b[0m \u001b[31m66.8 MB/s\u001b[0m eta \u001b[36m0:00:00\u001b[0m\n",
            "\u001b[?25hRequirement already satisfied: numpy<2.0,>=1.17.3 in /usr/local/lib/python3.10/dist-packages (from scikit-learn) (1.23.5)\n",
            "Requirement already satisfied: scipy>=1.5.0 in /usr/local/lib/python3.10/dist-packages (from scikit-learn) (1.11.4)\n",
            "Requirement already satisfied: joblib>=1.1.1 in /usr/local/lib/python3.10/dist-packages (from scikit-learn) (1.3.2)\n",
            "Requirement already satisfied: threadpoolctl>=2.0.0 in /usr/local/lib/python3.10/dist-packages (from scikit-learn) (3.2.0)\n",
            "Installing collected packages: scikit-learn\n",
            "  Attempting uninstall: scikit-learn\n",
            "    Found existing installation: scikit-learn 1.2.2\n",
            "    Uninstalling scikit-learn-1.2.2:\n",
            "      Successfully uninstalled scikit-learn-1.2.2\n",
            "Successfully installed scikit-learn-1.3.2\n"
          ]
        }
      ],
      "source": [
        "!pip install pyspark\n",
        "!pip install findspark\n",
        "!pip install -U scikit-learn"
      ]
    },
    {
      "cell_type": "code",
      "source": [
        "from pyspark.sql import SparkSession\n",
        "from pyspark.sql.functions import col\n",
        "from pyspark.sql.types import StructType, StructField, IntegerType, DoubleType\n",
        "from pyspark.sql.functions import col, isnan, when, count\n",
        "from pyspark.ml.stat import Correlation\n",
        "from pyspark.ml.feature import VectorAssembler\n",
        "from pyspark.ml.stat import Correlation\n",
        "from pyspark.ml.feature import VectorAssembler\n",
        "\n",
        "import matplotlib.pyplot as plt\n",
        "import seaborn as sns\n",
        "\n",
        "from pyspark.ml.feature import VectorAssembler\n",
        "from pyspark.ml.classification import NaiveBayes\n",
        "from pyspark.ml.evaluation import MulticlassClassificationEvaluator\n",
        "from pyspark.ml import Pipeline\n",
        "from pyspark.sql.functions import col\n",
        "\n",
        "from pyspark.ml.feature import StandardScaler\n",
        "from pyspark.ml.evaluation import MulticlassClassificationEvaluator\n",
        "from pyspark.ml.classification import NaiveBayes\n",
        "from pyspark.ml.tuning import ParamGridBuilder, CrossValidator\n",
        "from pyspark.ml.tuning import ParamGridBuilder, CrossValidator\n",
        "from pyspark.sql import SparkSession\n",
        "from pyspark.sql.functions import col\n",
        "from sklearn.metrics import confusion_matrix, roc_curve, auc\n",
        "import matplotlib.pyplot as plt\n",
        "from pyspark.ml.feature import StandardScaler\n",
        "from pyspark.ml.evaluation import MulticlassClassificationEvaluator, BinaryClassificationEvaluator\n",
        "\n",
        "from pyspark.ml.classification import RandomForestClassifier\n",
        "from pyspark.ml.evaluation import MulticlassClassificationEvaluator\n",
        "from sklearn.metrics import confusion_matrix\n",
        "from pyspark.ml.feature import VectorAssembler\n",
        "from pyspark.ml.classification import RandomForestClassifier\n",
        "from pyspark.ml import Pipeline\n",
        "from pyspark.ml.evaluation import MulticlassClassificationEvaluator\n",
        "from pyspark.sql import SparkSession\n",
        "from pyspark.sql.functions import col\n",
        "\n",
        "from pyspark.ml.classification import RandomForestClassifier\n",
        "from pyspark.ml.evaluation import BinaryClassificationEvaluator, MulticlassClassificationEvaluator\n",
        "from sklearn.metrics import accuracy_score, f1_score, precision_score, recall_score, roc_auc_score\n",
        "\n",
        "\n",
        "from pyspark.ml.classification import DecisionTreeClassifier\n",
        "from pyspark.ml.evaluation import MulticlassClassificationEvaluator\n",
        "from pyspark.ml.classification import LogisticRegression\n",
        "from pyspark.ml.evaluation import BinaryClassificationEvaluator, MulticlassClassificationEvaluator\n"
      ],
      "metadata": {
        "id": "UBNBypWZtv8W"
      },
      "execution_count": null,
      "outputs": []
    },
    {
      "cell_type": "code",
      "source": [
        "spark = SparkSession.builder.getOrCreate()\n",
        "spark = SparkSession.builder\\\n",
        "        .master(\"local\")\\\n",
        "        .appName(\"RDD\")\\\n",
        "        .config('spark.ui.port', '4050')\\\n",
        "        .getOrCreate()\n",
        "\n",
        "spark\n",
        "sc = spark.sparkContext"
      ],
      "metadata": {
        "id": "MhLssvrLteN3"
      },
      "execution_count": null,
      "outputs": []
    },
    {
      "cell_type": "code",
      "source": [
        "df = spark.read.csv(\"/content/diabetes.csv\", header=True, inferSchema=True)\n",
        "df.show()"
      ],
      "metadata": {
        "colab": {
          "base_uri": "https://localhost:8080/"
        },
        "id": "BIJUNiDmtl33",
        "outputId": "3d958d1c-c7a2-4ef8-8125-6505e131a978"
      },
      "execution_count": null,
      "outputs": [
        {
          "output_type": "stream",
          "name": "stdout",
          "text": [
            "+-----------+-------+-------------+-------------+-------+----+------------------------+---+-------+\n",
            "|Pregnancies|Glucose|BloodPressure|SkinThickness|Insulin| BMI|DiabetesPedigreeFunction|Age|Outcome|\n",
            "+-----------+-------+-------------+-------------+-------+----+------------------------+---+-------+\n",
            "|          6|    148|           72|           35|      0|33.6|                   0.627| 50|      1|\n",
            "|          1|     85|           66|           29|      0|26.6|                   0.351| 31|      0|\n",
            "|          8|    183|           64|            0|      0|23.3|                   0.672| 32|      1|\n",
            "|          1|     89|           66|           23|     94|28.1|                   0.167| 21|      0|\n",
            "|          0|    137|           40|           35|    168|43.1|                   2.288| 33|      1|\n",
            "|          5|    116|           74|            0|      0|25.6|                   0.201| 30|      0|\n",
            "|          3|     78|           50|           32|     88|31.0|                   0.248| 26|      1|\n",
            "|         10|    115|            0|            0|      0|35.3|                   0.134| 29|      0|\n",
            "|          2|    197|           70|           45|    543|30.5|                   0.158| 53|      1|\n",
            "|          8|    125|           96|            0|      0| 0.0|                   0.232| 54|      1|\n",
            "|          4|    110|           92|            0|      0|37.6|                   0.191| 30|      0|\n",
            "|         10|    168|           74|            0|      0|38.0|                   0.537| 34|      1|\n",
            "|         10|    139|           80|            0|      0|27.1|                   1.441| 57|      0|\n",
            "|          1|    189|           60|           23|    846|30.1|                   0.398| 59|      1|\n",
            "|          5|    166|           72|           19|    175|25.8|                   0.587| 51|      1|\n",
            "|          7|    100|            0|            0|      0|30.0|                   0.484| 32|      1|\n",
            "|          0|    118|           84|           47|    230|45.8|                   0.551| 31|      1|\n",
            "|          7|    107|           74|            0|      0|29.6|                   0.254| 31|      1|\n",
            "|          1|    103|           30|           38|     83|43.3|                   0.183| 33|      0|\n",
            "|          1|    115|           70|           30|     96|34.6|                   0.529| 32|      1|\n",
            "+-----------+-------+-------------+-------------+-------+----+------------------------+---+-------+\n",
            "only showing top 20 rows\n",
            "\n"
          ]
        }
      ]
    },
    {
      "cell_type": "code",
      "source": [
        "# Create a Spark session\n",
        "spark = SparkSession.builder.appName(\"NullValuesExample\").getOrCreate()\n",
        "\n",
        "# Read CSV file into a DataFrame\n",
        "df = spark.read.csv(\"/content/diabetes.csv\", header=True, inferSchema=True)\n",
        "\n",
        "# Display null values for each column\n",
        "for col_name in df.columns:\n",
        "    null_count = df.filter(col(col_name).isNull()).count()\n",
        "    print(f\"Column '{col_name}' has {null_count} null values.\")\n",
        "\n",
        "# Stop the Spark session\n",
        "spark.stop()\n"
      ],
      "metadata": {
        "colab": {
          "base_uri": "https://localhost:8080/"
        },
        "id": "jCNHCIf2tuDH",
        "outputId": "1def8e37-ccf3-4e1b-f181-c39f9e22c101"
      },
      "execution_count": null,
      "outputs": [
        {
          "output_type": "stream",
          "name": "stdout",
          "text": [
            "Column 'Pregnancies' has 0 null values.\n",
            "Column 'Glucose' has 0 null values.\n",
            "Column 'BloodPressure' has 0 null values.\n",
            "Column 'SkinThickness' has 0 null values.\n",
            "Column 'Insulin' has 0 null values.\n",
            "Column 'BMI' has 0 null values.\n",
            "Column 'DiabetesPedigreeFunction' has 0 null values.\n",
            "Column 'Age' has 0 null values.\n",
            "Column 'Outcome' has 0 null values.\n"
          ]
        }
      ]
    },
    {
      "cell_type": "code",
      "source": [
        "# Inisialisasi Spark session\n",
        "spark = SparkSession.builder.appName(\"DiabetesPreprocessing\").getOrCreate()\n",
        "\n",
        "# Definisi skema data\n",
        "schema = StructType([\n",
        "    StructField(\"Pregnancies\", IntegerType(), True),\n",
        "    StructField(\"Glucose\", IntegerType(), True),\n",
        "    StructField(\"BloodPressure\", IntegerType(), True),\n",
        "    StructField(\"SkinThickness\", IntegerType(), True),\n",
        "    StructField(\"Insulin\", IntegerType(), True),\n",
        "    StructField(\"BMI\", DoubleType(), True),\n",
        "    StructField(\"DiabetesPedigreeFunction\", DoubleType(), True),\n",
        "    StructField(\"Age\", IntegerType(), True),\n",
        "    StructField(\"Outcome\", IntegerType(), True)\n",
        "])\n",
        "\n",
        "# Membaca data dari file CSV ke dataframe\n",
        "data = spark.read.csv(\"/content/diabetes.csv\", header=True, schema=schema)\n",
        "\n",
        "# Menampilkan skema dataframe dan tipe data masing-masing kolom\n",
        "data.printSchema()\n",
        "\n",
        "# Menampilkan beberapa baris pertama data\n",
        "data.show()\n"
      ],
      "metadata": {
        "colab": {
          "base_uri": "https://localhost:8080/"
        },
        "id": "TP6RvLhbuckS",
        "outputId": "6e180a95-9635-49eb-a9a8-dac42757fb93"
      },
      "execution_count": null,
      "outputs": [
        {
          "output_type": "stream",
          "name": "stdout",
          "text": [
            "root\n",
            " |-- Pregnancies: integer (nullable = true)\n",
            " |-- Glucose: integer (nullable = true)\n",
            " |-- BloodPressure: integer (nullable = true)\n",
            " |-- SkinThickness: integer (nullable = true)\n",
            " |-- Insulin: integer (nullable = true)\n",
            " |-- BMI: double (nullable = true)\n",
            " |-- DiabetesPedigreeFunction: double (nullable = true)\n",
            " |-- Age: integer (nullable = true)\n",
            " |-- Outcome: integer (nullable = true)\n",
            "\n",
            "+-----------+-------+-------------+-------------+-------+----+------------------------+---+-------+\n",
            "|Pregnancies|Glucose|BloodPressure|SkinThickness|Insulin| BMI|DiabetesPedigreeFunction|Age|Outcome|\n",
            "+-----------+-------+-------------+-------------+-------+----+------------------------+---+-------+\n",
            "|          6|    148|           72|           35|      0|33.6|                   0.627| 50|      1|\n",
            "|          1|     85|           66|           29|      0|26.6|                   0.351| 31|      0|\n",
            "|          8|    183|           64|            0|      0|23.3|                   0.672| 32|      1|\n",
            "|          1|     89|           66|           23|     94|28.1|                   0.167| 21|      0|\n",
            "|          0|    137|           40|           35|    168|43.1|                   2.288| 33|      1|\n",
            "|          5|    116|           74|            0|      0|25.6|                   0.201| 30|      0|\n",
            "|          3|     78|           50|           32|     88|31.0|                   0.248| 26|      1|\n",
            "|         10|    115|            0|            0|      0|35.3|                   0.134| 29|      0|\n",
            "|          2|    197|           70|           45|    543|30.5|                   0.158| 53|      1|\n",
            "|          8|    125|           96|            0|      0| 0.0|                   0.232| 54|      1|\n",
            "|          4|    110|           92|            0|      0|37.6|                   0.191| 30|      0|\n",
            "|         10|    168|           74|            0|      0|38.0|                   0.537| 34|      1|\n",
            "|         10|    139|           80|            0|      0|27.1|                   1.441| 57|      0|\n",
            "|          1|    189|           60|           23|    846|30.1|                   0.398| 59|      1|\n",
            "|          5|    166|           72|           19|    175|25.8|                   0.587| 51|      1|\n",
            "|          7|    100|            0|            0|      0|30.0|                   0.484| 32|      1|\n",
            "|          0|    118|           84|           47|    230|45.8|                   0.551| 31|      1|\n",
            "|          7|    107|           74|            0|      0|29.6|                   0.254| 31|      1|\n",
            "|          1|    103|           30|           38|     83|43.3|                   0.183| 33|      0|\n",
            "|          1|    115|           70|           30|     96|34.6|                   0.529| 32|      1|\n",
            "+-----------+-------+-------------+-------------+-------+----+------------------------+---+-------+\n",
            "only showing top 20 rows\n",
            "\n"
          ]
        }
      ]
    },
    {
      "cell_type": "code",
      "source": [
        "# Mengganti nama kolom\n",
        "data = data.withColumnRenamed(\"Pregnancies\", \"NumPregnancies\") \\\n",
        "           .withColumnRenamed(\"Glucose\", \"GlucoseLevel\") \\\n",
        "           .withColumnRenamed(\"BloodPressure\", \"BloodPressure\") \\\n",
        "           .withColumnRenamed(\"SkinThickness\", \"SkinThickness\") \\\n",
        "           .withColumnRenamed(\"Insulin\", \"InsulinLevel\") \\\n",
        "           .withColumnRenamed(\"BMI\", \"BodyMassIndex\") \\\n",
        "           .withColumnRenamed(\"DiabetesPedigreeFunction\", \"PedigreeFunction\") \\\n",
        "           .withColumnRenamed(\"Age\", \"AgeInYears\") \\\n",
        "           .withColumnRenamed(\"Outcome\", \"DiabetesOutcome\")\n",
        "\n",
        "# Menampilkan skema dataframe setelah perubahan nama kolom\n",
        "data.printSchema()\n",
        "\n",
        "# Menampilkan beberapa baris pertama data\n",
        "data.show()"
      ],
      "metadata": {
        "colab": {
          "base_uri": "https://localhost:8080/"
        },
        "id": "4mXcgT6tu9q9",
        "outputId": "eb00eb11-5f1b-4ec7-e02e-84eb5da905d2"
      },
      "execution_count": null,
      "outputs": [
        {
          "output_type": "stream",
          "name": "stdout",
          "text": [
            "root\n",
            " |-- NumPregnancies: integer (nullable = true)\n",
            " |-- GlucoseLevel: integer (nullable = true)\n",
            " |-- BloodPressure: integer (nullable = true)\n",
            " |-- SkinThickness: integer (nullable = true)\n",
            " |-- InsulinLevel: integer (nullable = true)\n",
            " |-- BodyMassIndex: double (nullable = true)\n",
            " |-- PedigreeFunction: double (nullable = true)\n",
            " |-- AgeInYears: integer (nullable = true)\n",
            " |-- DiabetesOutcome: integer (nullable = true)\n",
            "\n",
            "+--------------+------------+-------------+-------------+------------+-------------+----------------+----------+---------------+\n",
            "|NumPregnancies|GlucoseLevel|BloodPressure|SkinThickness|InsulinLevel|BodyMassIndex|PedigreeFunction|AgeInYears|DiabetesOutcome|\n",
            "+--------------+------------+-------------+-------------+------------+-------------+----------------+----------+---------------+\n",
            "|             6|         148|           72|           35|           0|         33.6|           0.627|        50|              1|\n",
            "|             1|          85|           66|           29|           0|         26.6|           0.351|        31|              0|\n",
            "|             8|         183|           64|            0|           0|         23.3|           0.672|        32|              1|\n",
            "|             1|          89|           66|           23|          94|         28.1|           0.167|        21|              0|\n",
            "|             0|         137|           40|           35|         168|         43.1|           2.288|        33|              1|\n",
            "|             5|         116|           74|            0|           0|         25.6|           0.201|        30|              0|\n",
            "|             3|          78|           50|           32|          88|         31.0|           0.248|        26|              1|\n",
            "|            10|         115|            0|            0|           0|         35.3|           0.134|        29|              0|\n",
            "|             2|         197|           70|           45|         543|         30.5|           0.158|        53|              1|\n",
            "|             8|         125|           96|            0|           0|          0.0|           0.232|        54|              1|\n",
            "|             4|         110|           92|            0|           0|         37.6|           0.191|        30|              0|\n",
            "|            10|         168|           74|            0|           0|         38.0|           0.537|        34|              1|\n",
            "|            10|         139|           80|            0|           0|         27.1|           1.441|        57|              0|\n",
            "|             1|         189|           60|           23|         846|         30.1|           0.398|        59|              1|\n",
            "|             5|         166|           72|           19|         175|         25.8|           0.587|        51|              1|\n",
            "|             7|         100|            0|            0|           0|         30.0|           0.484|        32|              1|\n",
            "|             0|         118|           84|           47|         230|         45.8|           0.551|        31|              1|\n",
            "|             7|         107|           74|            0|           0|         29.6|           0.254|        31|              1|\n",
            "|             1|         103|           30|           38|          83|         43.3|           0.183|        33|              0|\n",
            "|             1|         115|           70|           30|          96|         34.6|           0.529|        32|              1|\n",
            "+--------------+------------+-------------+-------------+------------+-------------+----------------+----------+---------------+\n",
            "only showing top 20 rows\n",
            "\n"
          ]
        }
      ]
    },
    {
      "cell_type": "code",
      "source": [
        "# Memeriksa nilai null di setiap kolom\n",
        "null_counts = data.select([count(when(isnan(c) | col(c).isNull(), c)).alias(c) for c in data.columns])\n",
        "\n",
        "# Menampilkan jumlah nilai null di setiap kolom\n",
        "null_counts.show()"
      ],
      "metadata": {
        "colab": {
          "base_uri": "https://localhost:8080/"
        },
        "id": "vqvSH43UvNKB",
        "outputId": "cbf3d40b-48f2-46b5-cc6c-8e154e32b0a8"
      },
      "execution_count": null,
      "outputs": [
        {
          "output_type": "stream",
          "name": "stdout",
          "text": [
            "+--------------+------------+-------------+-------------+------------+-------------+----------------+----------+---------------+\n",
            "|NumPregnancies|GlucoseLevel|BloodPressure|SkinThickness|InsulinLevel|BodyMassIndex|PedigreeFunction|AgeInYears|DiabetesOutcome|\n",
            "+--------------+------------+-------------+-------------+------------+-------------+----------------+----------+---------------+\n",
            "|             0|           0|            0|            0|           0|            0|               0|         0|              0|\n",
            "+--------------+------------+-------------+-------------+------------+-------------+----------------+----------+---------------+\n",
            "\n"
          ]
        }
      ]
    },
    {
      "cell_type": "code",
      "source": [
        "# Mengubah tipe data kolom-kolom tertentu\n",
        "data = data.withColumn(\"GlucoseLevel\", col(\"GlucoseLevel\").cast(\"double\"))\n",
        "data = data.withColumn(\"BloodPressure\", col(\"BloodPressure\").cast(\"double\"))\n",
        "data = data.withColumn(\"SkinThickness\", col(\"SkinThickness\").cast(\"double\"))\n",
        "data = data.withColumn(\"InsulinLevel\", col(\"InsulinLevel\").cast(\"double\"))\n",
        "data = data.withColumn(\"AgeInYears\", col(\"AgeInYears\").cast(\"double\"))\n",
        "\n",
        "# Menampilkan skema dataframe setelah perubahan tipe data\n",
        "data.printSchema()\n",
        "\n",
        "# Menampilkan beberapa baris pertama data\n",
        "data.show()"
      ],
      "metadata": {
        "colab": {
          "base_uri": "https://localhost:8080/"
        },
        "id": "z3zJZ-7tv3Xb",
        "outputId": "60d5ec32-cd08-4423-b93b-aba77dc24e77"
      },
      "execution_count": null,
      "outputs": [
        {
          "output_type": "stream",
          "name": "stdout",
          "text": [
            "root\n",
            " |-- NumPregnancies: integer (nullable = true)\n",
            " |-- GlucoseLevel: double (nullable = true)\n",
            " |-- BloodPressure: double (nullable = true)\n",
            " |-- SkinThickness: double (nullable = true)\n",
            " |-- InsulinLevel: double (nullable = true)\n",
            " |-- BodyMassIndex: double (nullable = true)\n",
            " |-- PedigreeFunction: double (nullable = true)\n",
            " |-- AgeInYears: double (nullable = true)\n",
            " |-- DiabetesOutcome: integer (nullable = true)\n",
            "\n",
            "+--------------+------------+-------------+-------------+------------+-------------+----------------+----------+---------------+\n",
            "|NumPregnancies|GlucoseLevel|BloodPressure|SkinThickness|InsulinLevel|BodyMassIndex|PedigreeFunction|AgeInYears|DiabetesOutcome|\n",
            "+--------------+------------+-------------+-------------+------------+-------------+----------------+----------+---------------+\n",
            "|             6|       148.0|         72.0|         35.0|         0.0|         33.6|           0.627|      50.0|              1|\n",
            "|             1|        85.0|         66.0|         29.0|         0.0|         26.6|           0.351|      31.0|              0|\n",
            "|             8|       183.0|         64.0|          0.0|         0.0|         23.3|           0.672|      32.0|              1|\n",
            "|             1|        89.0|         66.0|         23.0|        94.0|         28.1|           0.167|      21.0|              0|\n",
            "|             0|       137.0|         40.0|         35.0|       168.0|         43.1|           2.288|      33.0|              1|\n",
            "|             5|       116.0|         74.0|          0.0|         0.0|         25.6|           0.201|      30.0|              0|\n",
            "|             3|        78.0|         50.0|         32.0|        88.0|         31.0|           0.248|      26.0|              1|\n",
            "|            10|       115.0|          0.0|          0.0|         0.0|         35.3|           0.134|      29.0|              0|\n",
            "|             2|       197.0|         70.0|         45.0|       543.0|         30.5|           0.158|      53.0|              1|\n",
            "|             8|       125.0|         96.0|          0.0|         0.0|          0.0|           0.232|      54.0|              1|\n",
            "|             4|       110.0|         92.0|          0.0|         0.0|         37.6|           0.191|      30.0|              0|\n",
            "|            10|       168.0|         74.0|          0.0|         0.0|         38.0|           0.537|      34.0|              1|\n",
            "|            10|       139.0|         80.0|          0.0|         0.0|         27.1|           1.441|      57.0|              0|\n",
            "|             1|       189.0|         60.0|         23.0|       846.0|         30.1|           0.398|      59.0|              1|\n",
            "|             5|       166.0|         72.0|         19.0|       175.0|         25.8|           0.587|      51.0|              1|\n",
            "|             7|       100.0|          0.0|          0.0|         0.0|         30.0|           0.484|      32.0|              1|\n",
            "|             0|       118.0|         84.0|         47.0|       230.0|         45.8|           0.551|      31.0|              1|\n",
            "|             7|       107.0|         74.0|          0.0|         0.0|         29.6|           0.254|      31.0|              1|\n",
            "|             1|       103.0|         30.0|         38.0|        83.0|         43.3|           0.183|      33.0|              0|\n",
            "|             1|       115.0|         70.0|         30.0|        96.0|         34.6|           0.529|      32.0|              1|\n",
            "+--------------+------------+-------------+-------------+------------+-------------+----------------+----------+---------------+\n",
            "only showing top 20 rows\n",
            "\n"
          ]
        }
      ]
    },
    {
      "cell_type": "code",
      "source": [
        "# Menampilkan summary statistik\n",
        "summary = data.describe()\n",
        "\n",
        "# Menampilkan summary statistik\n",
        "summary.show()"
      ],
      "metadata": {
        "colab": {
          "base_uri": "https://localhost:8080/"
        },
        "id": "uxeAs639wIsD",
        "outputId": "a21f6e64-9bbf-46c0-d510-53356c863e04"
      },
      "execution_count": null,
      "outputs": [
        {
          "output_type": "stream",
          "name": "stdout",
          "text": [
            "+-------+------------------+-----------------+------------------+------------------+------------------+------------------+------------------+------------------+------------------+\n",
            "|summary|    NumPregnancies|     GlucoseLevel|     BloodPressure|     SkinThickness|      InsulinLevel|     BodyMassIndex|  PedigreeFunction|        AgeInYears|   DiabetesOutcome|\n",
            "+-------+------------------+-----------------+------------------+------------------+------------------+------------------+------------------+------------------+------------------+\n",
            "|  count|               768|              768|               768|               768|               768|               768|               768|               768|               768|\n",
            "|   mean|3.8450520833333335|     120.89453125|       69.10546875|20.536458333333332| 79.79947916666667|31.992578124999977|0.4718763020833327|33.240885416666664|0.3489583333333333|\n",
            "| stddev|  3.36957806269887|31.97261819513622|19.355807170644777|15.952217567727642|115.24400235133803| 7.884160320375441| 0.331328595012775|11.760231540678689| 0.476951377242799|\n",
            "|    min|                 0|              0.0|               0.0|               0.0|               0.0|               0.0|             0.078|              21.0|                 0|\n",
            "|    max|                17|            199.0|             122.0|              99.0|             846.0|              67.1|              2.42|              81.0|                 1|\n",
            "+-------+------------------+-----------------+------------------+------------------+------------------+------------------+------------------+------------------+------------------+\n",
            "\n"
          ]
        }
      ]
    },
    {
      "cell_type": "code",
      "source": [
        "# Menggabungkan kolom-kolom numerik menjadi satu vektor kolom\n",
        "feature_columns = [\"NumPregnancies\", \"GlucoseLevel\", \"BloodPressure\", \"SkinThickness\", \"InsulinLevel\", \"BodyMassIndex\", \"PedigreeFunction\", \"AgeInYears\"]\n",
        "assembler = VectorAssembler(inputCols=feature_columns, outputCol=\"features\")\n",
        "assembled_data = assembler.transform(data)\n",
        "\n",
        "# Menghitung matriks korelasi\n",
        "correlation_matrix = Correlation.corr(assembled_data, \"features\").head()\n",
        "\n",
        "# Matriks korelasi dalam format DenseMatrix\n",
        "corr_matrix = correlation_matrix[0].toArray()\n",
        "\n",
        "# Menampilkan matriks korelasi\n",
        "print(\"Correlation Matrix:\")\n",
        "for i in range(len(feature_columns)):\n",
        "    row = \"\"\n",
        "    for j in range(len(feature_columns)):\n",
        "        row += f\"{feature_columns[j]}: {corr_matrix[i][j]:.2f}\\t\"\n",
        "    print(row)"
      ],
      "metadata": {
        "colab": {
          "base_uri": "https://localhost:8080/"
        },
        "id": "JFonyAPowdAx",
        "outputId": "232f6b81-08db-4518-e2f6-69a2b02aa714"
      },
      "execution_count": null,
      "outputs": [
        {
          "output_type": "stream",
          "name": "stdout",
          "text": [
            "Correlation Matrix:\n",
            "NumPregnancies: 1.00\tGlucoseLevel: 0.13\tBloodPressure: 0.14\tSkinThickness: -0.08\tInsulinLevel: -0.07\tBodyMassIndex: 0.02\tPedigreeFunction: -0.03\tAgeInYears: 0.54\t\n",
            "NumPregnancies: 0.13\tGlucoseLevel: 1.00\tBloodPressure: 0.15\tSkinThickness: 0.06\tInsulinLevel: 0.33\tBodyMassIndex: 0.22\tPedigreeFunction: 0.14\tAgeInYears: 0.26\t\n",
            "NumPregnancies: 0.14\tGlucoseLevel: 0.15\tBloodPressure: 1.00\tSkinThickness: 0.21\tInsulinLevel: 0.09\tBodyMassIndex: 0.28\tPedigreeFunction: 0.04\tAgeInYears: 0.24\t\n",
            "NumPregnancies: -0.08\tGlucoseLevel: 0.06\tBloodPressure: 0.21\tSkinThickness: 1.00\tInsulinLevel: 0.44\tBodyMassIndex: 0.39\tPedigreeFunction: 0.18\tAgeInYears: -0.11\t\n",
            "NumPregnancies: -0.07\tGlucoseLevel: 0.33\tBloodPressure: 0.09\tSkinThickness: 0.44\tInsulinLevel: 1.00\tBodyMassIndex: 0.20\tPedigreeFunction: 0.19\tAgeInYears: -0.04\t\n",
            "NumPregnancies: 0.02\tGlucoseLevel: 0.22\tBloodPressure: 0.28\tSkinThickness: 0.39\tInsulinLevel: 0.20\tBodyMassIndex: 1.00\tPedigreeFunction: 0.14\tAgeInYears: 0.04\t\n",
            "NumPregnancies: -0.03\tGlucoseLevel: 0.14\tBloodPressure: 0.04\tSkinThickness: 0.18\tInsulinLevel: 0.19\tBodyMassIndex: 0.14\tPedigreeFunction: 1.00\tAgeInYears: 0.03\t\n",
            "NumPregnancies: 0.54\tGlucoseLevel: 0.26\tBloodPressure: 0.24\tSkinThickness: -0.11\tInsulinLevel: -0.04\tBodyMassIndex: 0.04\tPedigreeFunction: 0.03\tAgeInYears: 1.00\t\n"
          ]
        }
      ]
    },
    {
      "cell_type": "code",
      "source": [
        "# Menghitung matriks korelasi\n",
        "correlation_matrix = Correlation.corr(assembled_data, \"features\").head()\n",
        "\n",
        "# Matriks korelasi dalam format DenseMatrix\n",
        "corr_matrix = correlation_matrix[0].toArray()\n",
        "\n",
        "# Membuat DataFrame dari matriks korelasi\n",
        "corr_df = spark.createDataFrame(corr_matrix.tolist(), feature_columns)\n",
        "\n",
        "# Mengumpulkan hasil korelasi ke dalam bentuk Pandas DataFrame\n",
        "corr_pandas = corr_df.toPandas()\n",
        "\n",
        "# Membuat heatmap menggunakan Seaborn dan Matplotlib\n",
        "plt.figure(figsize=(10, 8))\n",
        "sns.heatmap(corr_pandas, annot=True, cmap=\"coolwarm\", fmt=\".2f\", linewidths=.5)\n",
        "plt.title(\"Correlation Matrix Heatmap\")\n",
        "plt.show()\n"
      ],
      "metadata": {
        "colab": {
          "base_uri": "https://localhost:8080/",
          "height": 804
        },
        "id": "Jwc_dEujxH0x",
        "outputId": "7eaa686c-d6c6-4ee1-b8ad-bbd370d03b0b"
      },
      "execution_count": null,
      "outputs": [
        {
          "output_type": "display_data",
          "data": {
            "text/plain": [
              "<Figure size 1000x800 with 2 Axes>"
            ],
            "image/png": "[encoded data removed]"
          },
          "metadata": {}
        }
      ]
    },
    {
      "cell_type": "markdown",
      "source": [],
      "metadata": {
        "id": "6WuApa6PIihJ"
      }
    },
    {
      "cell_type": "markdown",
      "source": [
        "### NAIVE BAYES"
      ],
      "metadata": {
        "id": "GUg0AHdD23Gp"
      }
    },
    {
      "cell_type": "code",
      "source": [
        "# Split data menjadi training set dan test set\n",
        "train_data, test_data = assembled_data.randomSplit([0.8, 0.2], seed=42)"
      ],
      "metadata": {
        "id": "Pv43SIo63odt"
      },
      "execution_count": null,
      "outputs": []
    },
    {
      "cell_type": "code",
      "source": [
        "# Inisialisasi algoritma Naive Bayes\n",
        "naive_bayes = NaiveBayes(featuresCol=\"features\", labelCol=\"DiabetesOutcome\", smoothing=1.0)\n"
      ],
      "metadata": {
        "id": "QPALmm9h3sdG"
      },
      "execution_count": null,
      "outputs": []
    },
    {
      "cell_type": "code",
      "source": [
        "# Membuat pipeline dengan algoritma Naive Bayes\n",
        "pipeline = Pipeline(stages=[naive_bayes])\n",
        "\n",
        "# Membuat grid parameter untuk fine-tuning\n",
        "param_grid = ParamGridBuilder().build()"
      ],
      "metadata": {
        "id": "PUFal8lK3x2D"
      },
      "execution_count": null,
      "outputs": []
    },
    {
      "cell_type": "code",
      "source": [
        "# Inisialisasi evaluator\n",
        "evaluator = MulticlassClassificationEvaluator(labelCol=\"DiabetesOutcome\", metricName=\"accuracy\")\n",
        "\n",
        "# Inisialisasi CrossValidator\n",
        "cross_validator = CrossValidator(estimator=pipeline,\n",
        "                                 estimatorParamMaps=param_grid,\n",
        "                                 evaluator=evaluator,\n",
        "                                 numFolds=5,  # Jumlah lipatan dalam cross-validation\n",
        "                                 seed=42)"
      ],
      "metadata": {
        "id": "nDarIGP9310c"
      },
      "execution_count": null,
      "outputs": []
    },
    {
      "cell_type": "code",
      "source": [
        "# Melatih model menggunakan training set\n",
        "model = cross_validator.fit(train_data)\n",
        "\n",
        "# Menguji model menggunakan test set\n",
        "predictions = model.transform(test_data)\n"
      ],
      "metadata": {
        "id": "56nKmWC038Cm"
      },
      "execution_count": null,
      "outputs": []
    },
    {
      "cell_type": "code",
      "source": [
        "# Evaluasi performa model\n",
        "accuracy = evaluator.evaluate(predictions)\n",
        "print(f\"Accuracy: {accuracy:.2%}\")\n",
        "\n",
        "# Menampilkan hasil prediksi\n",
        "predictions.select(\"DiabetesOutcome\", \"prediction\", \"probability\").show(truncate=False)"
      ],
      "metadata": {
        "colab": {
          "base_uri": "https://localhost:8080/"
        },
        "id": "hVbfUGtG4BjI",
        "outputId": "1ada8ddb-b7a4-479f-c869-1d20a36d684f"
      },
      "execution_count": null,
      "outputs": [
        {
          "output_type": "stream",
          "name": "stdout",
          "text": [
            "Accuracy: 60.16%\n",
            "+---------------+----------+-------------------------------------------+\n",
            "|DiabetesOutcome|prediction|probability                                |\n",
            "+---------------+----------+-------------------------------------------+\n",
            "|0              |0.0       |[0.51827469916957,0.4817253008304301]      |\n",
            "|0              |1.0       |[0.43561144026410475,0.5643885597358953]   |\n",
            "|0              |1.0       |[2.7633772048569143E-7,0.9999997236622795] |\n",
            "|0              |1.0       |[0.13847897905461462,0.8615210209453853]   |\n",
            "|0              |0.0       |[0.9428413617654954,0.0571586382345046]    |\n",
            "|0              |0.0       |[0.9999480956399942,5.190436000568964E-5]  |\n",
            "|0              |0.0       |[0.9999980017175426,1.998282457366377E-6]  |\n",
            "|0              |1.0       |[0.004307799321460203,0.9956922006785397]  |\n",
            "|0              |0.0       |[0.999968974603539,3.102539646116633E-5]   |\n",
            "|1              |0.0       |[0.9999959055157327,4.094484267255276E-6]  |\n",
            "|0              |0.0       |[0.9999995053781907,4.946218094119488E-7]  |\n",
            "|0              |1.0       |[0.46639021875967757,0.5336097812403223]   |\n",
            "|0              |0.0       |[0.9998934970753292,1.0650292467079919E-4] |\n",
            "|0              |1.0       |[0.19632514739019732,0.8036748526098028]   |\n",
            "|1              |0.0       |[0.9999982329926437,1.767007356318385E-6]  |\n",
            "|0              |0.0       |[0.9999966534216792,3.3465783208463523E-6] |\n",
            "|0              |1.0       |[0.2423440756366369,0.757655924363363]     |\n",
            "|0              |1.0       |[1.2723364621381405E-10,0.9999999998727664]|\n",
            "|0              |0.0       |[0.9999999906184819,9.381518081024403E-9]  |\n",
            "|0              |0.0       |[0.9999968099001932,3.1900998068332688E-6] |\n",
            "+---------------+----------+-------------------------------------------+\n",
            "only showing top 20 rows\n",
            "\n"
          ]
        }
      ]
    },
    {
      "cell_type": "code",
      "source": [
        "# Initialize BinaryClassificationEvaluator for AUC\n",
        "auc_evaluator = BinaryClassificationEvaluator(labelCol=\"DiabetesOutcome\", metricName=\"areaUnderROC\")\n",
        "\n",
        "# Evaluate AUC\n",
        "auc = auc_evaluator.evaluate(predictions)\n",
        "print(f\"AUC: {auc:.2%}\")"
      ],
      "metadata": {
        "colab": {
          "base_uri": "https://localhost:8080/"
        },
        "id": "3WUth5aE4In9",
        "outputId": "0600d113-27c0-493c-bb5a-f38920204916"
      },
      "execution_count": null,
      "outputs": [
        {
          "output_type": "stream",
          "name": "stdout",
          "text": [
            "AUC: 29.42%\n"
          ]
        }
      ]
    },
    {
      "cell_type": "code",
      "source": [
        "# Initialize MulticlassClassificationEvaluator for F1 Score, Precision, and Recall\n",
        "f1_evaluator = MulticlassClassificationEvaluator(labelCol=\"DiabetesOutcome\", metricName=\"f1\")\n",
        "precision_evaluator = MulticlassClassificationEvaluator(labelCol=\"DiabetesOutcome\", metricName=\"weightedPrecision\")\n",
        "recall_evaluator = MulticlassClassificationEvaluator(labelCol=\"DiabetesOutcome\", metricName=\"weightedRecall\")\n"
      ],
      "metadata": {
        "id": "p0SyK0CY4MxG"
      },
      "execution_count": null,
      "outputs": []
    },
    {
      "cell_type": "code",
      "source": [
        "# Evaluate F1 Score, Precision, and Recall\n",
        "f1 = f1_evaluator.evaluate(predictions)\n",
        "precision = precision_evaluator.evaluate(predictions)\n",
        "recall = recall_evaluator.evaluate(predictions)\n",
        "\n",
        "print(f\"F1 Score: {f1:.2%}\")\n",
        "print(f\"Precision: {precision:.2%}\")\n",
        "print(f\"Recall: {recall:.2%}\")"
      ],
      "metadata": {
        "colab": {
          "base_uri": "https://localhost:8080/"
        },
        "id": "ijDRXCes4O7c",
        "outputId": "c7f7927a-baec-4da6-9c2d-9230ccfea5ce"
      },
      "execution_count": null,
      "outputs": [
        {
          "output_type": "stream",
          "name": "stdout",
          "text": [
            "F1 Score: 60.27%\n",
            "Precision: 60.38%\n",
            "Recall: 60.16%\n"
          ]
        }
      ]
    },
    {
      "cell_type": "code",
      "source": [
        "# Menampilkan confusion matrix menggunakan heatmap\n",
        "y_true = predictions.select(\"DiabetesOutcome\").collect()\n",
        "y_pred = predictions.select(\"prediction\").collect()\n",
        "conf_matrix = confusion_matrix(y_true, y_pred)\n",
        "plt.figure(figsize=(8, 6))\n",
        "sns.heatmap(conf_matrix, annot=True, fmt=\"d\", cmap=\"Blues\", xticklabels=[\"0\", \"1\"], yticklabels=[\"0\", \"1\"])\n",
        "plt.title(\"Confusion Matrix\")\n",
        "plt.xlabel(\"Predicted\")\n",
        "plt.ylabel(\"Actual\")\n",
        "plt.show()"
      ],
      "metadata": {
        "colab": {
          "base_uri": "https://localhost:8080/",
          "height": 564
        },
        "id": "uTqpQR19Hu4J",
        "outputId": "11424106-cbf6-434f-9054-a88e568d5515"
      },
      "execution_count": null,
      "outputs": [
        {
          "output_type": "display_data",
          "data": {
            "text/plain": [
              "<Figure size 800x600 with 2 Axes>"
            ],
            "image/png": "[encoded data removed]"
          },
          "metadata": {}
        }
      ]
    },
    {
      "cell_type": "code",
      "source": [
        "# y_true = predictions.select(\"Outcome\").collect()\n",
        "# y_pred = predictions.select(\"prediction\").collect()\n",
        "# conf_matrix = confusion_matrix(y_true, y_pred)\n",
        "# plt.figure(figsize=(16, 5))\n",
        "# plt.subplot(1, 2, 1)\n",
        "# plt.title(\"Confusion Matrix\")\n",
        "# sns.heatmap(conf_matrix, annot=True, fmt=\"d\", cmap=\"Blues\", xticklabels=[\"0\", \"1\"], yticklabels=[\"0\", \"1\"])"
      ],
      "metadata": {
        "id": "zzakl8MaInuU"
      },
      "execution_count": null,
      "outputs": []
    },
    {
      "cell_type": "code",
      "source": [
        "# Assuming y_true is the true labels from the test set\n",
        "y_true = test_data.select(\"DiabetesOutcome\").rdd.map(lambda row: row[0]).collect()"
      ],
      "metadata": {
        "id": "GOzyobl-ki1T"
      },
      "execution_count": null,
      "outputs": []
    },
    {
      "cell_type": "code",
      "source": [
        "from sklearn.metrics import roc_curve, auc as sk_auc\n",
        "# Assuming predictions is a DataFrame containing prediction probabilities\n",
        "fpr, tpr, _ = roc_curve(y_true, predictions.select(\"probability\").rdd.map(lambda row: row[0][1]).collect())\n",
        "roc_auc = sk_auc(fpr, tpr)  # Use the alias sk_auc for the auc function\n",
        "plt.figure(figsize=(8, 4))"
      ],
      "metadata": {
        "colab": {
          "base_uri": "https://localhost:8080/",
          "height": 52
        },
        "id": "VMUZyDOPknWZ",
        "outputId": "e3a75fc2-8b51-4bf5-f3d2-aec073209b98"
      },
      "execution_count": null,
      "outputs": [
        {
          "output_type": "execute_result",
          "data": {
            "text/plain": [
              "<Figure size 800x400 with 0 Axes>"
            ]
          },
          "metadata": {},
          "execution_count": 25
        },
        {
          "output_type": "display_data",
          "data": {
            "text/plain": [
              "<Figure size 800x400 with 0 Axes>"
            ]
          },
          "metadata": {}
        }
      ]
    },
    {
      "cell_type": "code",
      "source": [
        "# Plot ROC Curve\n",
        "plt.plot(fpr, tpr, color='darkorange', lw=2, label='ROC curve (area = {:.2f})'.format(roc_auc))\n",
        "plt.plot([0, 1], [0, 1], color='navy', lw=2, linestyle='--')\n",
        "plt.title(\"ROC Curve\")\n",
        "plt.xlabel(\"False Positive Rate\")\n",
        "plt.ylabel(\"True Positive Rate\")\n",
        "plt.legend(loc=\"lower right\")\n",
        "\n",
        "plt.tight_layout()\n",
        "plt.show()"
      ],
      "metadata": {
        "colab": {
          "base_uri": "https://localhost:8080/",
          "height": 487
        },
        "id": "6I_eMq1HktSg",
        "outputId": "b42c9855-3c85-4937-9ece-ef12c3559c21"
      },
      "execution_count": null,
      "outputs": [
        {
          "output_type": "display_data",
          "data": {
            "text/plain": [
              "<Figure size 640x480 with 1 Axes>"
            ],
            "image/png": "[encoded data removed]"
          },
          "metadata": {}
        }
      ]
    },
    {
      "cell_type": "code",
      "source": [
        "# import pandas as pd\n",
        "# # Menampilkan matriks korelasi\n",
        "# correlation_matrix = df.select(feature_columns).toPandas().corr()\n",
        "# plt.figure(figsize=(10, 8))\n",
        "# sns.heatmap(correlation_matrix, annot=True, cmap=\"coolwarm\", fmt=\".2f\", linewidths=.5)\n",
        "# plt.title(\"Correlation Matrix Heatmap\")\n",
        "# plt.show()"
      ],
      "metadata": {
        "id": "sWEwCtB2AFIk"
      },
      "execution_count": null,
      "outputs": []
    },
    {
      "cell_type": "markdown",
      "source": [],
      "metadata": {
        "id": "7eKrClZw41sT"
      }
    },
    {
      "cell_type": "markdown",
      "source": [
        "## RANDOM FORREST"
      ],
      "metadata": {
        "id": "U8ANYvD94Yd4"
      }
    },
    {
      "cell_type": "code",
      "source": [
        "from pyspark.ml.feature import VectorAssembler\n",
        "from pyspark.ml.classification import RandomForestClassifier\n",
        "from pyspark.ml import Pipeline\n",
        "from pyspark.ml.evaluation import MulticlassClassificationEvaluator\n",
        "from pyspark.sql import SparkSession\n",
        "from pyspark.sql.functions import col"
      ],
      "metadata": {
        "id": "tphLD47qrv2e"
      },
      "execution_count": null,
      "outputs": []
    },
    {
      "cell_type": "code",
      "source": [
        "# Inisialisasi Spark session\n",
        "spark = SparkSession.builder.appName(\"RandomForestClassification\").getOrCreate()\n",
        "# # Membaca data dari file CSV ke dalam DataFrame\n",
        "data = spark.read.csv(\"/content/diabetes.csv\", header=True, inferSchema=True)"
      ],
      "metadata": {
        "id": "nEPMUfoQqhaF"
      },
      "execution_count": null,
      "outputs": []
    },
    {
      "cell_type": "code",
      "source": [
        "# Inisialisasi Spark session\n",
        "spark = SparkSession.builder.appName(\"RandomForestClassification\").getOrCreate()\n",
        "# # Membaca data dari file CSV ke dalam DataFrame\n",
        "data = spark.read.csv(\"/content/diabetes.csv\", header=True, inferSchema=True)"
      ],
      "metadata": {
        "id": "EW-AFdW75uQd"
      },
      "execution_count": null,
      "outputs": []
    },
    {
      "cell_type": "code",
      "source": [
        "# Mengubah tipe data kolom label ke integer\n",
        "assembled_data = assembled_data.withColumn(\"Outcome\", col(\"Outcome\").cast(\"integer\"))"
      ],
      "metadata": {
        "id": "nvaTs0IY5xRC"
      },
      "execution_count": null,
      "outputs": []
    },
    {
      "cell_type": "code",
      "source": [
        "# Split data menjadi training set dan test set\n",
        "train_data, test_data = assembled_data.randomSplit([0.8, 0.2], seed=42)"
      ],
      "metadata": {
        "id": "SgBEtm1450e3"
      },
      "execution_count": null,
      "outputs": []
    },
    {
      "cell_type": "code",
      "source": [
        "# # Inisialisasi Spark session\n",
        "# spark = SparkSession.builder.appName(\"RandomForestClassification\").getOrCreate()\n",
        "\n",
        "# # Membaca data dari file CSV ke dalam DataFrame\n",
        "# df = spark.read.csv(\"/content/diabetes.csv\", header=True, inferSchema=True)\n",
        "\n",
        "# # Menggabungkan kolom-kolom numerik menjadi satu vektor kolom\n",
        "# feature_columns = [\"Pregnancies\", \"Glucose\", \"BloodPressure\", \"SkinThickness\", \"Insulin\", \"BMI\", \"DiabetesPedigreeFunction\", \"Age\"]\n",
        "# assembler = VectorAssembler(inputCols=feature_columns, outputCol=\"features\")\n",
        "# assembled_data = assembler.transform(df)\n",
        "\n",
        "# # Mengubah tipe data kolom label ke integer\n",
        "# assembled_data = assembled_data.withColumn(\"Outcome\", col(\"Outcome\").cast(\"integer\"))\n",
        "\n",
        "# # Split data menjadi training set dan test set\n",
        "# train_data, test_data = assembled_data.randomSplit([0.8, 0.2], seed=42)\n",
        "\n",
        "# # Inisialisasi algoritma Random Forest\n",
        "# rf_classifier = RandomForestClassifier(featuresCol=\"features\", labelCol=\"Outcome\", numTrees=100, maxDepth=5)\n",
        "\n",
        "# # Membuat pipeline dengan algoritma Random Forest\n",
        "# pipeline = Pipeline(stages=[rf_classifier])\n",
        "\n",
        "# # Melatih model menggunakan training set\n",
        "# model = pipeline.fit(train_data)\n",
        "\n",
        "# # Menguji model menggunakan test set\n",
        "# predictions = model.transform(test_data)\n",
        "\n",
        "# # Evaluasi performa model\n",
        "# evaluator = MulticlassClassificationEvaluator(labelCol=\"Outcome\", metricName=\"accuracy\")\n",
        "# accuracy = evaluator.evaluate(predictions)\n",
        "# print(f\"Accuracy: {accuracy:.2%}\")\n",
        "\n",
        "# # Menampilkan hasil prediksi\n",
        "# predictions.select(\"Outcome\", \"prediction\", \"probability\").show(truncate=False)"
      ],
      "metadata": {
        "id": "-_rirG8JLTG4"
      },
      "execution_count": null,
      "outputs": []
    },
    {
      "cell_type": "code",
      "source": [
        "# Inisialisasi algoritma Random Forest\n",
        "rf_classifier = RandomForestClassifier(featuresCol=\"features\", labelCol=\"Outcome\", numTrees=100, maxDepth=5)\n",
        "\n",
        "# Membuat pipeline dengan algoritma Random Forest\n",
        "pipeline = Pipeline(stages=[rf_classifier])\n",
        "\n",
        "# Melatih model menggunakan training set\n",
        "model = pipeline.fit(train_data)\n",
        "\n",
        "# Menguji model menggunakan test set\n",
        "predictions = model.transform(test_data)"
      ],
      "metadata": {
        "id": "zvGXf1SS54z7"
      },
      "execution_count": null,
      "outputs": []
    },
    {
      "cell_type": "code",
      "source": [
        "# Evaluasi performa model\n",
        "evaluator = MulticlassClassificationEvaluator(labelCol=\"Outcome\", metricName=\"accuracy\")\n",
        "accuracy = evaluator.evaluate(predictions)\n",
        "print(f\"Accuracy: {accuracy:.2%}\")\n",
        "\n",
        "# Menampilkan hasil prediksi\n",
        "predictions.select(\"Outcome\", \"prediction\", \"probability\").show(truncate=False)"
      ],
      "metadata": {
        "id": "JWDWOU_J5_Cl",
        "colab": {
          "base_uri": "https://localhost:8080/"
        },
        "outputId": "2928fa85-e020-4df7-ae79-8deb8a52262d"
      },
      "execution_count": null,
      "outputs": [
        {
          "output_type": "stream",
          "name": "stdout",
          "text": [
            "Accuracy: 78.86%\n",
            "+-------+----------+-----------------------------------------+\n",
            "|Outcome|prediction|probability                              |\n",
            "+-------+----------+-----------------------------------------+\n",
            "|0      |0.0       |[0.9437198762283489,0.056280123771651196]|\n",
            "|0      |0.0       |[0.8367025635014778,0.1632974364985222]  |\n",
            "|0      |0.0       |[0.8117043637071486,0.18829563629285131] |\n",
            "|0      |0.0       |[0.9441424114396165,0.055857588560383586]|\n",
            "|0      |0.0       |[0.9366331762107343,0.0633668237892657]  |\n",
            "|0      |0.0       |[0.9437253104822042,0.05627468951779581] |\n",
            "|0      |0.0       |[0.9443718788988972,0.05562812110110284] |\n",
            "|0      |0.0       |[0.8407605335767363,0.15923946642326373] |\n",
            "|0      |0.0       |[0.8528094896394055,0.14719051036059444] |\n",
            "|1      |0.0       |[0.8384814003250205,0.16151859967497958] |\n",
            "|0      |0.0       |[0.7742911304795866,0.22570886952041327] |\n",
            "|0      |1.0       |[0.45595858659797583,0.544041413402024]  |\n",
            "|0      |0.0       |[0.7381568746549386,0.26184312534506143] |\n",
            "|0      |0.0       |[0.7564673876040422,0.2435326123959578]  |\n",
            "|1      |0.0       |[0.7638490827623511,0.2361509172376489]  |\n",
            "|0      |0.0       |[0.5648109610569183,0.4351890389430818]  |\n",
            "|0      |0.0       |[0.5013670182727226,0.49863298172727744] |\n",
            "|0      |1.0       |[0.20401883009721397,0.795981169902786]  |\n",
            "|0      |0.0       |[0.8547898115578099,0.14521018844219014] |\n",
            "|0      |0.0       |[0.8704541812111659,0.1295458187888341]  |\n",
            "+-------+----------+-----------------------------------------+\n",
            "only showing top 20 rows\n",
            "\n"
          ]
        }
      ]
    },
    {
      "cell_type": "code",
      "source": [
        "# Menghitung metrik evaluasi menggunakan scikit-learn\n",
        "y_true = predictions.select(\"Outcome\").collect()\n",
        "y_pred = predictions.select(\"prediction\").collect()\n",
        "\n",
        "# Akurasi\n",
        "accuracy = accuracy_score(y_true, y_pred)\n",
        "print(f\"Akurasi: {accuracy:.2%}\")\n",
        "\n",
        "# F1 Score\n",
        "f1 = f1_score(y_true, y_pred)\n",
        "print(f\"F1 Score: {f1:.2%}\")\n",
        "\n",
        "# Presisi\n",
        "precision = precision_score(y_true, y_pred)\n",
        "print(f\"Presisi: {precision:.2%}\")\n",
        "\n",
        "# Recall\n",
        "recall = recall_score(y_true, y_pred)\n",
        "print(f\"Recall: {recall:.2%}\")\n"
      ],
      "metadata": {
        "id": "d1t6aUUc6vdu",
        "colab": {
          "base_uri": "https://localhost:8080/"
        },
        "outputId": "aaffb0fe-9429-42e0-f414-5dfcc10bbd06"
      },
      "execution_count": null,
      "outputs": [
        {
          "output_type": "stream",
          "name": "stdout",
          "text": [
            "Akurasi: 78.86%\n",
            "F1 Score: 65.79%\n",
            "Presisi: 75.76%\n",
            "Recall: 58.14%\n"
          ]
        }
      ]
    },
    {
      "cell_type": "code",
      "source": [
        "# # Menampilkan tree model\n",
        "# tree_model = model.stages[-1]\n",
        "# print(\"Decision Tree Model:\")\n",
        "# print(tree_model.toDebugString)"
      ],
      "metadata": {
        "id": "OtbJuHdaF4wX"
      },
      "execution_count": null,
      "outputs": []
    },
    {
      "cell_type": "code",
      "source": [
        "# Menampilkan confusion matrix menggunakan heatmap\n",
        "y_true = predictions.select(\"Outcome\").collect()\n",
        "y_pred = predictions.select(\"prediction\").collect()\n",
        "conf_matrix = confusion_matrix(y_true, y_pred)\n",
        "plt.figure(figsize=(8, 6))\n",
        "sns.heatmap(conf_matrix, annot=True, fmt=\"d\", cmap=\"Blues\", xticklabels=[\"0\", \"1\"], yticklabels=[\"0\", \"1\"])\n",
        "plt.title(\"Confusion Matrix\")\n",
        "plt.xlabel(\"Predicted\")\n",
        "plt.ylabel(\"Actual\")\n",
        "plt.show()"
      ],
      "metadata": {
        "id": "Ga3-ZIXNBg0_",
        "colab": {
          "base_uri": "https://localhost:8080/",
          "height": 564
        },
        "outputId": "88bce09a-fb60-465d-b086-60c2f9c7000c"
      },
      "execution_count": null,
      "outputs": [
        {
          "output_type": "display_data",
          "data": {
            "text/plain": [
              "<Figure size 800x600 with 2 Axes>"
            ],
            "image/png": "[encoded data removed]"
          },
          "metadata": {}
        }
      ]
    },
    {
      "cell_type": "markdown",
      "source": [],
      "metadata": {
        "id": "kfVKXkEpIrix"
      }
    },
    {
      "cell_type": "markdown",
      "source": [
        "## DECISION TREE"
      ],
      "metadata": {
        "id": "V0BULCFv7bCx"
      }
    },
    {
      "cell_type": "code",
      "source": [
        "# Split data menjadi training set dan test set\n",
        "train_data, test_data = assembled_data.randomSplit([0.8, 0.2], seed=42)"
      ],
      "metadata": {
        "id": "ZmIUaJaC7vr7"
      },
      "execution_count": null,
      "outputs": []
    },
    {
      "cell_type": "code",
      "source": [
        "# Inisialisasi algoritma Decision Tree\n",
        "dt_classifier = DecisionTreeClassifier(featuresCol=\"features\", labelCol=\"Outcome\", maxDepth=5)\n"
      ],
      "metadata": {
        "id": "xsH8CiRT7x4W"
      },
      "execution_count": null,
      "outputs": []
    },
    {
      "cell_type": "code",
      "source": [
        "# Membuat pipeline dengan algoritma Decision Tree\n",
        "pipeline = Pipeline(stages=[dt_classifier])"
      ],
      "metadata": {
        "id": "4imaI9Ko708S"
      },
      "execution_count": null,
      "outputs": []
    },
    {
      "cell_type": "code",
      "source": [
        "# Melatih model menggunakan training set\n",
        "model = pipeline.fit(train_data)"
      ],
      "metadata": {
        "id": "l38BO4SY720-"
      },
      "execution_count": null,
      "outputs": []
    },
    {
      "cell_type": "code",
      "source": [
        "# Menguji model menggunakan test set\n",
        "predictions = model.transform(test_data)"
      ],
      "metadata": {
        "id": "aULC3H5k7562"
      },
      "execution_count": null,
      "outputs": []
    },
    {
      "cell_type": "code",
      "source": [
        "# Evaluasi performa model\n",
        "evaluator = MulticlassClassificationEvaluator(labelCol=\"Outcome\", metricName=\"accuracy\")\n",
        "accuracy = evaluator.evaluate(predictions)\n",
        "print(f\"Accuracy: {accuracy:.2%}\")\n",
        "\n",
        "# Menampilkan hasil prediksi\n",
        "predictions.select(\"Outcome\", \"prediction\", \"probability\").show(truncate=False)"
      ],
      "metadata": {
        "id": "xrvJJPaO78qf",
        "colab": {
          "base_uri": "https://localhost:8080/"
        },
        "outputId": "f6cdd834-c072-4d30-a3c3-6ffec132ff3f"
      },
      "execution_count": null,
      "outputs": [
        {
          "output_type": "stream",
          "name": "stdout",
          "text": [
            "Accuracy: 77.24%\n",
            "+-------+----------+-----------------------------------------+\n",
            "|Outcome|prediction|probability                              |\n",
            "+-------+----------+-----------------------------------------+\n",
            "|0      |0.0       |[0.9915966386554622,0.008403361344537815]|\n",
            "|0      |0.0       |[0.8392857142857143,0.16071428571428573] |\n",
            "|0      |0.0       |[0.8392857142857143,0.16071428571428573] |\n",
            "|0      |0.0       |[0.9915966386554622,0.008403361344537815]|\n",
            "|0      |0.0       |[0.9915966386554622,0.008403361344537815]|\n",
            "|0      |0.0       |[0.9915966386554622,0.008403361344537815]|\n",
            "|0      |0.0       |[0.9915966386554622,0.008403361344537815]|\n",
            "|0      |0.0       |[0.8392857142857143,0.16071428571428573] |\n",
            "|0      |0.0       |[0.9714285714285714,0.02857142857142857] |\n",
            "|1      |0.0       |[0.8392857142857143,0.16071428571428573] |\n",
            "|0      |0.0       |[0.8392857142857143,0.16071428571428573] |\n",
            "|0      |1.0       |[0.325,0.675]                            |\n",
            "|0      |0.0       |[0.8392857142857143,0.16071428571428573] |\n",
            "|0      |0.0       |[0.8392857142857143,0.16071428571428573] |\n",
            "|1      |0.0       |[0.6752136752136753,0.3247863247863248]  |\n",
            "|0      |1.0       |[0.325,0.675]                            |\n",
            "|0      |0.0       |[0.5769230769230769,0.4230769230769231]  |\n",
            "|0      |1.0       |[0.08620689655172414,0.9137931034482759] |\n",
            "|0      |0.0       |[0.8392857142857143,0.16071428571428573] |\n",
            "|0      |0.0       |[0.8392857142857143,0.16071428571428573] |\n",
            "+-------+----------+-----------------------------------------+\n",
            "only showing top 20 rows\n",
            "\n"
          ]
        }
      ]
    },
    {
      "cell_type": "code",
      "source": [
        "# Evaluasi menggunakan BinaryClassificationEvaluator untuk AUC\n",
        "binary_evaluator = BinaryClassificationEvaluator(labelCol=\"Outcome\")\n",
        "auc = binary_evaluator.evaluate(predictions, {binary_evaluator.metricName: \"areaUnderROC\"})\n",
        "print(f\"AUC: {auc:.2%}\")\n",
        "\n",
        "# Menghitung metrik evaluasi menggunakan scikit-learn\n",
        "y_true = predictions.select(\"Outcome\").collect()\n",
        "y_pred = predictions.select(\"prediction\").collect()\n",
        "\n",
        "# Akurasi\n",
        "accuracy = accuracy_score(y_true, y_pred)\n",
        "print(f\"Akurasi: {accuracy:.2%}\")\n",
        "\n",
        "# F1 Score\n",
        "f1 = f1_score(y_true, y_pred)\n",
        "print(f\"F1 Score: {f1:.2%}\")\n",
        "\n",
        "# Presisi\n",
        "precision = precision_score(y_true, y_pred)\n",
        "print(f\"Presisi: {precision:.2%}\")\n",
        "\n",
        "# Recall\n",
        "recall = recall_score(y_true, y_pred)\n",
        "print(f\"Recall: {recall:.2%}\")"
      ],
      "metadata": {
        "id": "QhdKiWRY8Q5x",
        "colab": {
          "base_uri": "https://localhost:8080/"
        },
        "outputId": "f5871e9f-6f45-4593-b3a9-c0099c011352"
      },
      "execution_count": null,
      "outputs": [
        {
          "output_type": "stream",
          "name": "stdout",
          "text": [
            "AUC: 74.71%\n",
            "Akurasi: 77.24%\n",
            "F1 Score: 64.10%\n",
            "Presisi: 71.43%\n",
            "Recall: 58.14%\n"
          ]
        }
      ]
    },
    {
      "cell_type": "code",
      "source": [
        "from pyspark.ml.classification import DecisionTreeClassificationModel, DecisionTreeClassifier\n",
        "# Menampilkan tree model\n",
        "tree_model = model.stages[-1]\n",
        "if isinstance(tree_model, DecisionTreeClassificationModel):\n",
        "    print(\"Decision Tree Model:\")\n",
        "    print(tree_model.toDebugString)"
      ],
      "metadata": {
        "id": "eltsnpRDFDKY",
        "colab": {
          "base_uri": "https://localhost:8080/"
        },
        "outputId": "a95c034c-de3f-492a-98f0-d0fcaeb26620"
      },
      "execution_count": null,
      "outputs": [
        {
          "output_type": "stream",
          "name": "stdout",
          "text": [
            "Decision Tree Model:\n",
            "DecisionTreeClassificationModel: uid=DecisionTreeClassifier_55147ded2c89, depth=5, numNodes=35, numClasses=2, numFeatures=8\n",
            "  If (feature 1 <= 129.5)\n",
            "   If (feature 7 <= 28.5)\n",
            "    If (feature 5 <= 30.15)\n",
            "     If (feature 0 <= 7.5)\n",
            "      Predict: 0.0\n",
            "     Else (feature 0 > 7.5)\n",
            "      Predict: 1.0\n",
            "    Else (feature 5 > 30.15)\n",
            "     If (feature 6 <= 1.2229999999999999)\n",
            "      Predict: 0.0\n",
            "     Else (feature 6 > 1.2229999999999999)\n",
            "      Predict: 1.0\n",
            "   Else (feature 7 > 28.5)\n",
            "    If (feature 5 <= 26.35)\n",
            "     If (feature 2 <= 93.0)\n",
            "      Predict: 0.0\n",
            "     Else (feature 2 > 93.0)\n",
            "      Predict: 1.0\n",
            "    Else (feature 5 > 26.35)\n",
            "     If (feature 6 <= 0.6214999999999999)\n",
            "      Predict: 0.0\n",
            "     Else (feature 6 > 0.6214999999999999)\n",
            "      Predict: 1.0\n",
            "  Else (feature 1 > 129.5)\n",
            "   If (feature 5 <= 29.25)\n",
            "    If (feature 1 <= 144.5)\n",
            "     Predict: 0.0\n",
            "    Else (feature 1 > 144.5)\n",
            "     If (feature 7 <= 24.5)\n",
            "      Predict: 0.0\n",
            "     Else (feature 7 > 24.5)\n",
            "      If (feature 7 <= 60.5)\n",
            "       Predict: 1.0\n",
            "      Else (feature 7 > 60.5)\n",
            "       Predict: 0.0\n",
            "   Else (feature 5 > 29.25)\n",
            "    If (feature 1 <= 156.5)\n",
            "     If (feature 2 <= 47.0)\n",
            "      Predict: 1.0\n",
            "     Else (feature 2 > 47.0)\n",
            "      If (feature 7 <= 41.5)\n",
            "       Predict: 0.0\n",
            "      Else (feature 7 > 41.5)\n",
            "       Predict: 1.0\n",
            "    Else (feature 1 > 156.5)\n",
            "     If (feature 6 <= 0.2995)\n",
            "      If (feature 6 <= 0.2845)\n",
            "       Predict: 1.0\n",
            "      Else (feature 6 > 0.2845)\n",
            "       Predict: 0.0\n",
            "     Else (feature 6 > 0.2995)\n",
            "      Predict: 1.0\n",
            "\n"
          ]
        }
      ]
    },
    {
      "cell_type": "code",
      "source": [
        "# Menampilkan confusion matrix menggunakan heatmap\n",
        "y_true = predictions.select(\"Outcome\").collect()\n",
        "y_pred = predictions.select(\"prediction\").collect()\n",
        "conf_matrix = confusion_matrix(y_true, y_pred)\n",
        "plt.figure(figsize=(8, 6))\n",
        "sns.heatmap(conf_matrix, annot=True, fmt=\"d\", cmap=\"Blues\", xticklabels=[\"0\", \"1\"], yticklabels=[\"0\", \"1\"])\n",
        "plt.title(\"Confusion Matrix\")\n",
        "plt.xlabel(\"Predicted\")\n",
        "plt.ylabel(\"Actual\")\n",
        "plt.show()"
      ],
      "metadata": {
        "id": "xQz3NFFsFrdn",
        "colab": {
          "base_uri": "https://localhost:8080/",
          "height": 564
        },
        "outputId": "e7b7ac05-e2aa-45dd-e50b-2030eb66c586"
      },
      "execution_count": null,
      "outputs": [
        {
          "output_type": "display_data",
          "data": {
            "text/plain": [
              "<Figure size 800x600 with 2 Axes>"
            ],
            "image/png": "[encoded data removed]"
          },
          "metadata": {}
        }
      ]
    },
    {
      "cell_type": "markdown",
      "source": [
        "## LOGISTIC REGERESION"
      ],
      "metadata": {
        "id": "pQX7dI369U8F"
      }
    },
    {
      "cell_type": "code",
      "source": [
        "# Split data menjadi training set dan test set\n",
        "train_data, test_data = assembled_data.randomSplit([0.8, 0.2], seed=42)\n"
      ],
      "metadata": {
        "id": "4E8FFg8q9eEI"
      },
      "execution_count": null,
      "outputs": []
    },
    {
      "cell_type": "code",
      "source": [
        "# Inisialisasi algoritma Logistic Regression\n",
        "lr_classifier = LogisticRegression(featuresCol=\"features\", labelCol=\"Outcome\", maxIter=10, regParam=0.3, elasticNetParam=0.8)\n",
        "\n",
        "# Membuat pipeline dengan algoritma Logistic Regression\n",
        "pipeline = Pipeline(stages=[lr_classifier])"
      ],
      "metadata": {
        "id": "_UAbWPNe9gIt"
      },
      "execution_count": null,
      "outputs": []
    },
    {
      "cell_type": "code",
      "source": [
        "# Melatih model menggunakan training set\n",
        "model = pipeline.fit(train_data)\n",
        "\n",
        "# Menguji model menggunakan test set\n",
        "predictions = model.transform(test_data)"
      ],
      "metadata": {
        "id": "Za2SoVBN9jZL"
      },
      "execution_count": null,
      "outputs": []
    },
    {
      "cell_type": "code",
      "source": [
        "# Evaluasi menggunakan BinaryClassificationEvaluator untuk AUC\n",
        "binary_evaluator = BinaryClassificationEvaluator(labelCol=\"Outcome\")\n",
        "auc = binary_evaluator.evaluate(predictions, {binary_evaluator.metricName: \"areaUnderROC\"})\n",
        "print(f\"AUC: {auc:.2%}\")\n",
        "\n",
        "# Evaluasi performa model menggunakan akurasi\n",
        "evaluator = MulticlassClassificationEvaluator(labelCol=\"Outcome\", metricName=\"accuracy\")\n",
        "accuracy = evaluator.evaluate(predictions)\n",
        "print(f\"Akurasi: {accuracy:.2%}\")\n",
        "\n",
        "# F1 Score\n",
        "f1 = f1_score(y_true, y_pred)\n",
        "print(f\"F1 Score: {f1:.2%}\")\n",
        "\n",
        "# Presisi\n",
        "precision = precision_score(y_true, y_pred)\n",
        "print(f\"Presisi: {precision:.2%}\")\n",
        "\n",
        "# Recall\n",
        "recall = recall_score(y_true, y_pred)\n",
        "print(f\"Recall: {recall:.2%}\")\n",
        "\n",
        "# Menampilkan hasil prediksi\n",
        "predictions.select(\"Outcome\", \"prediction\", \"probability\").show(truncate=False)\n",
        "\n"
      ],
      "metadata": {
        "id": "n3DlaWIH9mbN",
        "colab": {
          "base_uri": "https://localhost:8080/"
        },
        "outputId": "f6f0900a-411c-418d-a012-81820d9b91fe"
      },
      "execution_count": null,
      "outputs": [
        {
          "output_type": "stream",
          "name": "stdout",
          "text": [
            "AUC: 50.00%\n",
            "Akurasi: 65.04%\n",
            "F1 Score: 64.10%\n",
            "Presisi: 71.43%\n",
            "Recall: 58.14%\n",
            "+-------+----------+----------------------------------------+\n",
            "|Outcome|prediction|probability                             |\n",
            "+-------+----------+----------------------------------------+\n",
            "|0      |0.0       |[0.6511627906976745,0.34883720930232553]|\n",
            "|0      |0.0       |[0.6511627906976745,0.34883720930232553]|\n",
            "|0      |0.0       |[0.6511627906976745,0.34883720930232553]|\n",
            "|0      |0.0       |[0.6511627906976745,0.34883720930232553]|\n",
            "|0      |0.0       |[0.6511627906976745,0.34883720930232553]|\n",
            "|0      |0.0       |[0.6511627906976745,0.34883720930232553]|\n",
            "|0      |0.0       |[0.6511627906976745,0.34883720930232553]|\n",
            "|0      |0.0       |[0.6511627906976745,0.34883720930232553]|\n",
            "|0      |0.0       |[0.6511627906976745,0.34883720930232553]|\n",
            "|1      |0.0       |[0.6511627906976745,0.34883720930232553]|\n",
            "|0      |0.0       |[0.6511627906976745,0.34883720930232553]|\n",
            "|0      |0.0       |[0.6511627906976745,0.34883720930232553]|\n",
            "|0      |0.0       |[0.6511627906976745,0.34883720930232553]|\n",
            "|0      |0.0       |[0.6511627906976745,0.34883720930232553]|\n",
            "|1      |0.0       |[0.6511627906976745,0.34883720930232553]|\n",
            "|0      |0.0       |[0.6511627906976745,0.34883720930232553]|\n",
            "|0      |0.0       |[0.6511627906976745,0.34883720930232553]|\n",
            "|0      |0.0       |[0.6511627906976745,0.34883720930232553]|\n",
            "|0      |0.0       |[0.6511627906976745,0.34883720930232553]|\n",
            "|0      |0.0       |[0.6511627906976745,0.34883720930232553]|\n",
            "+-------+----------+----------------------------------------+\n",
            "only showing top 20 rows\n",
            "\n"
          ]
        }
      ]
    },
    {
      "cell_type": "code",
      "source": [
        "# Menampilkan confusion matrix menggunakan heatmap\n",
        "y_true = predictions.select(\"Outcome\").collect()\n",
        "y_pred = predictions.select(\"prediction\").collect()\n",
        "conf_matrix = confusion_matrix(y_true, y_pred)\n",
        "plt.figure(figsize=(8, 6))\n",
        "sns.heatmap(conf_matrix, annot=True, fmt=\"d\", cmap=\"Blues\", xticklabels=[\"0\", \"1\"], yticklabels=[\"0\", \"1\"])\n",
        "plt.title(\"Confusion Matrix\")\n",
        "plt.xlabel(\"Predicted\")\n",
        "plt.ylabel(\"Actual\")\n",
        "plt.show()\n",
        "\n"
      ],
      "metadata": {
        "id": "MrupaQDxGfdm",
        "colab": {
          "base_uri": "https://localhost:8080/",
          "height": 564
        },
        "outputId": "1c9c35de-d003-4a76-c01f-cfcc2024abe0"
      },
      "execution_count": null,
      "outputs": [
        {
          "output_type": "display_data",
          "data": {
            "text/plain": [
              "<Figure size 800x600 with 2 Axes>"
            ],
            "image/png": "[encoded data removed]"
          },
          "metadata": {}
        }
      ]
    },
    {
      "cell_type": "code",
      "source": [
        "# Menampilkan hasil prediksi\n",
        "predictions.select(\"Outcome\", \"prediction\", \"probability\").show(truncate=False)"
      ],
      "metadata": {
        "id": "m3IKGU2aGrqC",
        "colab": {
          "base_uri": "https://localhost:8080/"
        },
        "outputId": "6ea16a4c-d289-437f-fefc-955d08a6d6d9"
      },
      "execution_count": null,
      "outputs": [
        {
          "output_type": "stream",
          "name": "stdout",
          "text": [
            "+-------+----------+----------------------------------------+\n",
            "|Outcome|prediction|probability                             |\n",
            "+-------+----------+----------------------------------------+\n",
            "|0      |0.0       |[0.6511627906976745,0.34883720930232553]|\n",
            "|0      |0.0       |[0.6511627906976745,0.34883720930232553]|\n",
            "|0      |0.0       |[0.6511627906976745,0.34883720930232553]|\n",
            "|0      |0.0       |[0.6511627906976745,0.34883720930232553]|\n",
            "|0      |0.0       |[0.6511627906976745,0.34883720930232553]|\n",
            "|0      |0.0       |[0.6511627906976745,0.34883720930232553]|\n",
            "|0      |0.0       |[0.6511627906976745,0.34883720930232553]|\n",
            "|0      |0.0       |[0.6511627906976745,0.34883720930232553]|\n",
            "|0      |0.0       |[0.6511627906976745,0.34883720930232553]|\n",
            "|1      |0.0       |[0.6511627906976745,0.34883720930232553]|\n",
            "|0      |0.0       |[0.6511627906976745,0.34883720930232553]|\n",
            "|0      |0.0       |[0.6511627906976745,0.34883720930232553]|\n",
            "|0      |0.0       |[0.6511627906976745,0.34883720930232553]|\n",
            "|0      |0.0       |[0.6511627906976745,0.34883720930232553]|\n",
            "|1      |0.0       |[0.6511627906976745,0.34883720930232553]|\n",
            "|0      |0.0       |[0.6511627906976745,0.34883720930232553]|\n",
            "|0      |0.0       |[0.6511627906976745,0.34883720930232553]|\n",
            "|0      |0.0       |[0.6511627906976745,0.34883720930232553]|\n",
            "|0      |0.0       |[0.6511627906976745,0.34883720930232553]|\n",
            "|0      |0.0       |[0.6511627906976745,0.34883720930232553]|\n",
            "+-------+----------+----------------------------------------+\n",
            "only showing top 20 rows\n",
            "\n"
          ]
        }
      ]
    },
    {
      "cell_type": "markdown",
      "source": [
        "Opsional Min 4 algoritma"
      ],
      "metadata": {
        "id": "kTE-Y6IAPkPN"
      }
    },
    {
      "cell_type": "markdown",
      "source": [
        "## SVM"
      ],
      "metadata": {
        "id": "4jb8Z6g2QnZ4"
      }
    },
    {
      "cell_type": "code",
      "source": [
        "from pyspark.ml.feature import VectorAssembler\n",
        "from pyspark.ml.classification import LinearSVC\n",
        "from pyspark.ml import Pipeline\n",
        "from pyspark.ml.evaluation import BinaryClassificationEvaluator, MulticlassClassificationEvaluator\n",
        "from pyspark.sql import SparkSession\n",
        "from pyspark.sql.functions import col\n",
        "from sklearn.metrics import f1_score, precision_score, recall_score, roc_auc_score"
      ],
      "metadata": {
        "id": "atdsCvDpR_l3"
      },
      "execution_count": null,
      "outputs": []
    },
    {
      "cell_type": "code",
      "source": [
        "# Inisialisasi Spark session\n",
        "spark = SparkSession.builder.appName(\"SVMClassification\").getOrCreate()\n",
        "\n",
        "# Membaca data dari file CSV ke dalam DataFrame\n",
        "df = spark.read.csv(\"/content/diabetes.csv\", header=True, inferSchema=True)"
      ],
      "metadata": {
        "id": "x8OBQ9s5SByt"
      },
      "execution_count": null,
      "outputs": []
    },
    {
      "cell_type": "code",
      "source": [
        "# Menggabungkan kolom-kolom numerik menjadi satu vektor kolom\n",
        "feature_columns = [\"Pregnancies\", \"Glucose\", \"BloodPressure\", \"SkinThickness\", \"Insulin\", \"BMI\", \"DiabetesPedigreeFunction\", \"Age\"]\n",
        "assembler = VectorAssembler(inputCols=feature_columns, outputCol=\"features\")\n",
        "assembled_data = assembler.transform(df)"
      ],
      "metadata": {
        "id": "fHB7FmNRSD1Q"
      },
      "execution_count": null,
      "outputs": []
    },
    {
      "cell_type": "code",
      "source": [
        "# Mengubah tipe data kolom label ke integer\n",
        "assembled_data = assembled_data.withColumn(\"Outcome\", col(\"Outcome\").cast(\"integer\"))"
      ],
      "metadata": {
        "id": "27Sl4DaWSGN9"
      },
      "execution_count": null,
      "outputs": []
    },
    {
      "cell_type": "code",
      "source": [
        "# Split data menjadi training set dan test set\n",
        "train_data, test_data = assembled_data.randomSplit([0.8, 0.2], seed=42)"
      ],
      "metadata": {
        "id": "QJUXQQ_lSIZV"
      },
      "execution_count": null,
      "outputs": []
    },
    {
      "cell_type": "code",
      "source": [
        "# Inisialisasi algoritma SVM\n",
        "svm_classifier = LinearSVC(featuresCol=\"features\", labelCol=\"Outcome\", maxIter=100, regParam=0.1)\n",
        "# Membuat pipeline dengan algoritma SVM\n",
        "pipeline = Pipeline(stages=[svm_classifier])\n"
      ],
      "metadata": {
        "id": "IckP-Zj6SKae"
      },
      "execution_count": null,
      "outputs": []
    },
    {
      "cell_type": "code",
      "source": [
        "# Melatih model menggunakan training set\n",
        "model = pipeline.fit(train_data)\n",
        "\n",
        "# Menguji model menggunakan test set\n",
        "predictions = model.transform(test_data)"
      ],
      "metadata": {
        "id": "W82t4dq0SPSz"
      },
      "execution_count": null,
      "outputs": []
    },
    {
      "cell_type": "code",
      "source": [
        "# Evaluasi performa model\n",
        "evaluator_accuracy = MulticlassClassificationEvaluator(labelCol=\"Outcome\", metricName=\"accuracy\")\n",
        "accuracy = evaluator_accuracy.evaluate(predictions)\n",
        "print(f\"Accuracy: {accuracy:.2%}\")\n",
        "\n",
        "# Evaluasi menggunakan BinaryClassificationEvaluator untuk AUC\n",
        "binary_evaluator = BinaryClassificationEvaluator(labelCol=\"Outcome\")\n",
        "auc = binary_evaluator.evaluate(predictions, {binary_evaluator.metricName: \"areaUnderROC\"})\n",
        "print(f\"AUC: {auc:.2%}\")\n",
        "\n",
        "# Menghitung metrik evaluasi menggunakan scikit-learn\n",
        "y_true = predictions.select(\"Outcome\").collect()\n",
        "y_pred = predictions.select(\"prediction\").collect()\n",
        "\n",
        "# F1 Score\n",
        "f1 = f1_score(y_true, y_pred)\n",
        "print(f\"F1 Score: {f1:.2%}\")\n",
        "\n",
        "# Presisi\n",
        "precision = precision_score(y_true, y_pred)\n",
        "print(f\"Presisi: {precision:.2%}\")\n",
        "\n",
        "# Recall\n",
        "recall = recall_score(y_true, y_pred)\n",
        "print(f\"Recall: {recall:.2%}\")\n",
        "\n",
        "# Menampilkan hasil prediksi\n",
        "predictions.select(\"Outcome\", \"prediction\").show(truncate=False)"
      ],
      "metadata": {
        "colab": {
          "base_uri": "https://localhost:8080/"
        },
        "id": "CZucDGU4Sbhy",
        "outputId": "2b5e9801-c910-40e0-b76f-bd0a05197ed2"
      },
      "execution_count": null,
      "outputs": [
        {
          "output_type": "stream",
          "name": "stdout",
          "text": [
            "Accuracy: 78.05%\n",
            "AUC: 86.48%\n",
            "F1 Score: 64.00%\n",
            "Presisi: 75.00%\n",
            "Recall: 55.81%\n",
            "+-------+----------+\n",
            "|Outcome|prediction|\n",
            "+-------+----------+\n",
            "|0      |0.0       |\n",
            "|0      |0.0       |\n",
            "|0      |0.0       |\n",
            "|0      |0.0       |\n",
            "|0      |0.0       |\n",
            "|0      |0.0       |\n",
            "|0      |0.0       |\n",
            "|0      |0.0       |\n",
            "|0      |0.0       |\n",
            "|1      |0.0       |\n",
            "|0      |0.0       |\n",
            "|0      |1.0       |\n",
            "|0      |0.0       |\n",
            "|0      |0.0       |\n",
            "|1      |0.0       |\n",
            "|0      |0.0       |\n",
            "|0      |0.0       |\n",
            "|0      |1.0       |\n",
            "|0      |0.0       |\n",
            "|0      |0.0       |\n",
            "+-------+----------+\n",
            "only showing top 20 rows\n",
            "\n"
          ]
        }
      ]
    }
  ]
}